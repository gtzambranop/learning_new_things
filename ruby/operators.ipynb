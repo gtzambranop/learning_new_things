{
 "cells": [
  {
   "cell_type": "markdown",
   "metadata": {},
   "source": [
    "# Operadores\n",
    "\n",
    "## Operadores aritméticos\n",
    "\n",
    "| Operador | Descripción |\n",
    "| :--: | :---: |\n",
    "| ** | Exponenciación |\n",
    "| *, /, % | Multiplicación, división, módulo |\n",
    "| +, - | Suma y resta |"
   ]
  },
  {
   "cell_type": "code",
   "execution_count": 3,
   "metadata": {},
   "outputs": [
    {
     "name": "stdout",
     "output_type": "stream",
     "text": [
      "10\n",
      "6\n",
      "16\n",
      "4\n",
      "64\n",
      "2\n"
     ]
    }
   ],
   "source": [
    "x = 8\n",
    "y = 2\n",
    "puts x + y  # sum\n",
    "puts x - y  # subtraction\n",
    "puts x * y  # multiplication\n",
    "puts x / y  # division\n",
    "puts x ** y  # empowerment\n",
    "puts x % 3  # module"
   ]
  },
  {
   "cell_type": "code",
   "execution_count": 11,
   "metadata": {},
   "outputs": [
    {
     "name": "stdout",
     "output_type": "stream",
     "text": [
      "2\n",
      "6\n",
      "2\n",
      "-1\n",
      "2\n",
      "8\n",
      "2\n"
     ]
    }
   ],
   "source": [
    "x = 2\n",
    "y = 3\n",
    "puts x\n",
    "puts x *= y\n",
    "puts x /= y\n",
    "puts x -= y\n",
    "puts x += y\n",
    "puts x **= y\n",
    "puts x %= y"
   ]
  },
  {
   "cell_type": "markdown",
   "metadata": {},
   "source": [
    "## Operadores de comparación\n",
    "\n",
    "| Comparación | Significado |\n",
    "| :---: | :---: |\n",
    "| x > y | Mayor que |\n",
    "| x < y | Menor que |\n",
    "| x == y | Igual a |\n",
    "| x >= y | Mayor igual que |\n",
    "| x <= y | Menor igual que |\n",
    "| x <=> y | Comparasión; retorna 0 si x == y, 1 si x > y, -1 si x < y |\n",
    "| x != y | Diferente a |"
   ]
  },
  {
   "cell_type": "code",
   "execution_count": 12,
   "metadata": {},
   "outputs": [
    {
     "name": "stdout",
     "output_type": "stream",
     "text": [
      "x es mayor a y\n",
      "y es menor a x\n"
     ]
    }
   ],
   "source": [
    "x = 4\n",
    "y = 2\n",
    "puts \"x es mayor a y\" if x > y\n",
    "puts \"y es menor a x\" if y < x"
   ]
  },
  {
   "cell_type": "code",
   "execution_count": 13,
   "metadata": {},
   "outputs": [
    {
     "name": "stdout",
     "output_type": "stream",
     "text": [
      "x es igual a y\n",
      "x es mayor o igual a y\n"
     ]
    }
   ],
   "source": [
    "x = 2\n",
    "y = 2\n",
    "z = 3\n",
    "puts \"x es igual a y\" if x == y\n",
    "puts \"x es mayor o igual a y\" if x >= y\n",
    "puts \"x es menor o igual a z\" if x >= z"
   ]
  },
  {
   "cell_type": "code",
   "execution_count": 16,
   "metadata": {},
   "outputs": [
    {
     "name": "stdout",
     "output_type": "stream",
     "text": [
      "0\n",
      "1\n",
      "-1\n"
     ]
    }
   ],
   "source": [
    "x = 1\n",
    "y = 2\n",
    "z = 3\n",
    "puts y <=> y\n",
    "puts y <=> x\n",
    "puts y <=> z"
   ]
  },
  {
   "cell_type": "code",
   "execution_count": 18,
   "metadata": {},
   "outputs": [
    {
     "name": "stdout",
     "output_type": "stream",
     "text": [
      "y es igual a y\n",
      "y es mayor a x\n",
      "y es menor a z\n"
     ]
    }
   ],
   "source": [
    "x = 1\n",
    "y = 2\n",
    "z = 3\n",
    "puts \"y es igual a y\" if (y <=> y) == 0\n",
    "puts \"y es mayor a x\" if (y <=> x) > 0\n",
    "puts \"y es menor a z\" if (y <=> z) < 0"
   ]
  }
 ],
 "metadata": {
  "kernelspec": {
   "display_name": "Ruby 2.5.5",
   "language": "ruby",
   "name": "ruby"
  },
  "language_info": {
   "file_extension": ".rb",
   "mimetype": "application/x-ruby",
   "name": "ruby",
   "version": "2.5.5"
  }
 },
 "nbformat": 4,
 "nbformat_minor": 4
}
