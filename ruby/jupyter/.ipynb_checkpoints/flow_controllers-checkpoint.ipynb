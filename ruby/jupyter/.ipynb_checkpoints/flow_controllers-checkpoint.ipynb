{
 "cells": [
  {
   "cell_type": "markdown",
   "metadata": {},
   "source": [
    "# If...else"
   ]
  },
  {
   "cell_type": "code",
   "execution_count": 1,
   "metadata": {},
   "outputs": [
    {
     "name": "stdout",
     "output_type": "stream",
     "text": [
      "x is 1\n"
     ]
    }
   ],
   "source": [
    "x = 1\n",
    "if x > 2\n",
    "   puts \"x is greater than 2\"\n",
    "elsif x <= 2 and x!=0\n",
    "   puts \"x is 1\"\n",
    "else\n",
    "   puts \"I can't guess the number\"\n",
    "end"
   ]
  },
  {
   "cell_type": "markdown",
   "metadata": {},
   "source": [
    "## if modificador\n",
    "\n",
    "Ejecuta el condicional si el *condicional* es verdadero\n",
    "\n",
    "```ruby\n",
    "code if condition\n",
    "```"
   ]
  },
  {
   "cell_type": "code",
   "execution_count": 2,
   "metadata": {},
   "outputs": [
    {
     "name": "stdout",
     "output_type": "stream",
     "text": [
      "debug\n"
     ]
    }
   ],
   "source": [
    "$debug = 1  # $ es la variable global utilizada para buscar archivos externos.\n",
    "print \"debug\\n\" if $debug"
   ]
  },
  {
   "cell_type": "markdown",
   "metadata": {},
   "source": [
    "# Unless\n",
    "\n",
    "Ejecuta el código si el condicional es falso. Si es verdadero se ejecuta en la cláusula else."
   ]
  },
  {
   "cell_type": "code",
   "execution_count": 3,
   "metadata": {},
   "outputs": [
    {
     "name": "stdout",
     "output_type": "stream",
     "text": [
      "x is less than 2\n"
     ]
    }
   ],
   "source": [
    "x = 1 \n",
    "unless x>=2\n",
    "   puts \"x is less than 2\"\n",
    " else\n",
    "   puts \"x is greater than 2\"\n",
    "end"
   ]
  },
  {
   "cell_type": "markdown",
   "metadata": {},
   "source": [
    "## Unless modificador\n",
    "\n",
    "Ejecuta el código si el condicional es falso.\n",
    "\n",
    "```ruby\n",
    "code unless conditional\n",
    "```"
   ]
  },
  {
   "cell_type": "code",
   "execution_count": 4,
   "metadata": {},
   "outputs": [
    {
     "name": "stdout",
     "output_type": "stream",
     "text": [
      "1 -- Value is set\n",
      "3 -- Value is set\n"
     ]
    }
   ],
   "source": [
    "$var =  1\n",
    "print \"1 -- Value is set\\n\" if $var\n",
    "print \"2 -- Value is set\\n\" unless $var\n",
    "\n",
    "$var = false\n",
    "print \"3 -- Value is set\\n\" unless $var"
   ]
  },
  {
   "cell_type": "markdown",
   "metadata": {},
   "source": [
    "# Case\n",
    "\n",
    "```ruby\n",
    "case expr0\n",
    "when expr1, expr2\n",
    "   stmt1\n",
    "when expr3, expr4\n",
    "   stmt2\n",
    "else\n",
    "   stmt3\n",
    "end\n",
    "```\n",
    "\n",
    "`expr0` se va a comparar con cada uno de los valores seguidos de la sentencia `when`, si coincide con uno, se ejecuta el código, si no es igual a ninguno de los valores arrojados por las sentencias `when`, ejecutará el código de la sentencia `else`.\n",
    "\n",
    "`expr0` usa el operador `===` para realizar sus comparaciones."
   ]
  },
  {
   "cell_type": "code",
   "execution_count": 5,
   "metadata": {},
   "outputs": [
    {
     "name": "stdout",
     "output_type": "stream",
     "text": [
      "little child\n"
     ]
    }
   ],
   "source": [
    "age =  5\n",
    "case age\n",
    "when 0 .. 2    # [0, 1, 2]\n",
    "   puts \"baby\"\n",
    "when 3 ... 6   # [0, 1, 2, 3, 4, 5]\n",
    "   puts \"little child\"\n",
    "when 7 .. 12\n",
    "   puts \"child\"\n",
    "when 13 .. 18\n",
    "   puts \"youth\"\n",
    "else\n",
    "   puts \"adult\"\n",
    "end"
   ]
  }
 ],
 "metadata": {
  "kernelspec": {
   "display_name": "Ruby 2.5.5",
   "language": "ruby",
   "name": "ruby"
  },
  "language_info": {
   "file_extension": ".rb",
   "mimetype": "application/x-ruby",
   "name": "ruby",
   "version": "2.5.5"
  }
 },
 "nbformat": 4,
 "nbformat_minor": 4
}
