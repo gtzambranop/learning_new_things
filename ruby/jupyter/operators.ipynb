{
 "cells": [
  {
   "cell_type": "markdown",
   "metadata": {},
   "source": [
    "# Operadores\n",
    "\n",
    "- **Apuntes tomados por:** Guiselle Tatiana Zambrano Penagos\n",
    "- **Tutorial:** [TutorialsPoint-Basics-Operators](https://www.tutorialspoint.com/ruby/ruby_operators.htm)\n",
    "\n",
    "## Operadores aritméticos\n",
    "\n",
    "| Operador | Descripción |\n",
    "| :--: | :---: |\n",
    "| ** | Exponenciación |\n",
    "| *, /, % | Multiplicación, división, módulo |\n",
    "| +, - | Suma y resta |"
   ]
  },
  {
   "cell_type": "code",
   "execution_count": 1,
   "metadata": {},
   "outputs": [
    {
     "name": "stdout",
     "output_type": "stream",
     "text": [
      "10\n",
      "6\n",
      "16\n",
      "4\n",
      "64\n",
      "2\n"
     ]
    }
   ],
   "source": [
    "x = 8\n",
    "y = 2\n",
    "puts x + y  # sum\n",
    "puts x - y  # subtraction\n",
    "puts x * y  # multiplication\n",
    "puts x / y  # division\n",
    "puts x ** y  # empowerment\n",
    "puts x % 3  # module"
   ]
  },
  {
   "cell_type": "markdown",
   "metadata": {},
   "source": [
    "## Operadores de asignación"
   ]
  },
  {
   "cell_type": "code",
   "execution_count": 2,
   "metadata": {},
   "outputs": [
    {
     "name": "stdout",
     "output_type": "stream",
     "text": [
      "2\n",
      "6\n",
      "2\n",
      "-1\n",
      "2\n",
      "8\n",
      "2\n",
      "2\n"
     ]
    }
   ],
   "source": [
    "x, y = 2, 3\n",
    "puts x\n",
    "puts x *= y\n",
    "puts x /= y\n",
    "puts x -= y\n",
    "puts x += y\n",
    "puts x **= y\n",
    "puts x %= y\n",
    "puts x %= y"
   ]
  },
  {
   "cell_type": "markdown",
   "metadata": {},
   "source": [
    "## Operadores de comparación\n",
    "\n",
    "| Comparación | Significado |\n",
    "| :---: | :---: |\n",
    "| x > y | Mayor que |\n",
    "| x < y | Menor que |\n",
    "| x == y | Igual a |\n",
    "| x >= y | Mayor igual que |\n",
    "| x <= y | Menor igual que |\n",
    "| x <=> y | Comparasión; retorna 0 si x == y, 1 si x > y, -1 si x < y |\n",
    "| x != y | Diferente a |\n",
    "| x === y | |\n",
    "| x.eql?y | Retorna verdadero si los operadores tienen el mismo tipo e igual valor |\n",
    "| equal | |"
   ]
  },
  {
   "cell_type": "code",
   "execution_count": 3,
   "metadata": {},
   "outputs": [
    {
     "name": "stdout",
     "output_type": "stream",
     "text": [
      "x es mayor a y\n",
      "y es menor a x\n"
     ]
    }
   ],
   "source": [
    "x, y = 4, 2\n",
    "puts \"x es mayor a y\" if x > y\n",
    "puts \"y es menor a x\" if y < x"
   ]
  },
  {
   "cell_type": "code",
   "execution_count": 4,
   "metadata": {},
   "outputs": [
    {
     "name": "stdout",
     "output_type": "stream",
     "text": [
      "x es igual a y\n",
      "x es mayor o igual a y\n"
     ]
    }
   ],
   "source": [
    "x, y, z = 2, 2, 3\n",
    "puts \"x es igual a y\" if x == y\n",
    "puts \"x es mayor o igual a y\" if x >= y\n",
    "puts \"x es menor o igual a z\" if x >= z"
   ]
  },
  {
   "cell_type": "code",
   "execution_count": 5,
   "metadata": {},
   "outputs": [
    {
     "name": "stdout",
     "output_type": "stream",
     "text": [
      "0\n",
      "1\n",
      "-1\n"
     ]
    }
   ],
   "source": [
    "x, y, z = 1, 2, 3\n",
    "puts y <=> y\n",
    "puts y <=> x\n",
    "puts y <=> z"
   ]
  },
  {
   "cell_type": "code",
   "execution_count": 6,
   "metadata": {},
   "outputs": [
    {
     "name": "stdout",
     "output_type": "stream",
     "text": [
      "y es igual a y\n",
      "y es mayor a x\n",
      "y es menor a z\n"
     ]
    }
   ],
   "source": [
    "x, y, z = 1, 2, 3\n",
    "puts \"y es igual a y\" if (y <=> y) == 0\n",
    "puts \"y es mayor a x\" if (y <=> x) > 0\n",
    "puts \"y es menor a z\" if (y <=> z) < 0"
   ]
  },
  {
   "cell_type": "code",
   "execution_count": 7,
   "metadata": {},
   "outputs": [
    {
     "name": "stdout",
     "output_type": "stream",
     "text": [
      "false\n",
      "true\n"
     ]
    }
   ],
   "source": [
    "x, y, z = 1, 1.0, 1.0\n",
    "puts x.eql?y\n",
    "puts y.eql?z"
   ]
  },
  {
   "cell_type": "markdown",
   "metadata": {},
   "source": [
    "## Operadores Bit a Bit\n",
    "\n",
    "| Operador | Descripción |\n",
    "| :---: | :---: |\n",
    "| & | AND |\n",
    "| \\| | OR |\n",
    "| ^ | XOR |\n",
    "| ~ | Complemento |\n",
    "| << | Desplazamiento de bits a la izquierda |\n",
    "| >> | Desplazamiento de bits a la derecha |"
   ]
  },
  {
   "cell_type": "code",
   "execution_count": 3,
   "metadata": {},
   "outputs": [
    {
     "name": "stdout",
     "output_type": "stream",
     "text": [
      "4\n",
      "100\n"
     ]
    }
   ],
   "source": [
    "# and\n",
    "a = 0b1101  # 13\n",
    "b = 0b0110  # 6\n",
    "c = a & b  # => 0100 = 4\n",
    "puts c\n",
    "puts c.to_s(2)"
   ]
  },
  {
   "cell_type": "code",
   "execution_count": 25,
   "metadata": {},
   "outputs": [
    {
     "name": "stdout",
     "output_type": "stream",
     "text": [
      "1111\n"
     ]
    }
   ],
   "source": [
    "# or\n",
    "a = 0b1101  # 13\n",
    "b = 0b0110  # 6\n",
    "c = a | b  # => 1111 = 15\n",
    "puts c\n",
    "puts c.to_s(2)"
   ]
  },
  {
   "cell_type": "code",
   "execution_count": 21,
   "metadata": {},
   "outputs": [
    {
     "name": "stdout",
     "output_type": "stream",
     "text": [
      "11\n"
     ]
    }
   ],
   "source": [
    "# xor\n",
    "a = 0b1101  # 13\n",
    "b = 0b0110  # 6\n",
    "c = a ^ b  # => 1011 = 11\n",
    "puts c\n",
    "puts c.to_s(2)"
   ]
  },
  {
   "cell_type": "code",
   "execution_count": 4,
   "metadata": {},
   "outputs": [
    {
     "name": "stdout",
     "output_type": "stream",
     "text": [
      "-14\n",
      "-1110\n"
     ]
    }
   ],
   "source": [
    "# complement\n",
    "a = 0b1101  # 13\n",
    "c = ~a\n",
    "puts c\n",
    "puts c.to_s(2)"
   ]
  },
  {
   "cell_type": "code",
   "execution_count": 8,
   "metadata": {},
   "outputs": [
    {
     "name": "stdout",
     "output_type": "stream",
     "text": [
      "26\n",
      "11010\n"
     ]
    }
   ],
   "source": [
    "# complemento\n",
    "a = 0b1101  # 13\n",
    "c = a << 1  # =>  11010 = 26\n",
    "puts c\n",
    "puts c.to_s(2)"
   ]
  },
  {
   "cell_type": "code",
   "execution_count": 9,
   "metadata": {},
   "outputs": [
    {
     "name": "stdout",
     "output_type": "stream",
     "text": [
      "6\n",
      "110\n"
     ]
    }
   ],
   "source": [
    "# complemento\n",
    "a = 0b1101  # 13\n",
    "c = a >> 1  # =>  0110 = 6\n",
    "puts c\n",
    "puts c.to_s(2)"
   ]
  },
  {
   "cell_type": "markdown",
   "metadata": {},
   "source": [
    "## Operadores Lógicos\n",
    "\n",
    "| Operador | Descripción |\n",
    "| :---: | :---: |\n",
    "| and, && | AND |\n",
    "| or, \\|\\| | OR |\n",
    "| not, ! | NOT |\n",
    "\n",
    "Los operadores **&&** y **||** son de corto circuito porque si no se cumple la condición de un termino, no se evalúa el resto de la operación. Estos retornan el operador que determinan el resultado.\n",
    "\n",
    "Los operadores **&&** y **and** funcionan igual, pero se diferencian en su precedencia. Lo mismo sucede con **||** y **or**."
   ]
  },
  {
   "cell_type": "code",
   "execution_count": 37,
   "metadata": {},
   "outputs": [
    {
     "name": "stdout",
     "output_type": "stream",
     "text": [
      "hello 1\n",
      "false\n",
      "hello 3\n",
      "false\n"
     ]
    }
   ],
   "source": [
    "puts true && \"hello 1\"\n",
    "puts false && \"hello 2\"\n",
    "puts true && true && \"hello 3\"\n",
    "puts true && false && \"hello 4\""
   ]
  },
  {
   "cell_type": "code",
   "execution_count": 51,
   "metadata": {},
   "outputs": [
    {
     "name": "stdout",
     "output_type": "stream",
     "text": [
      "true\n",
      "hello 2\n",
      "hello 2\n",
      "true\n"
     ]
    }
   ],
   "source": [
    "puts true || \"hello 1\"\n",
    "puts false || \"hello 2\"\n",
    "puts false || false || \"hello 2\"\n",
    "puts false || true || \"hello 3\""
   ]
  },
  {
   "cell_type": "code",
   "execution_count": 57,
   "metadata": {},
   "outputs": [
    {
     "name": "stdout",
     "output_type": "stream",
     "text": [
      "false\n",
      "false\n"
     ]
    }
   ],
   "source": [
    "puts !true\n",
    "puts (not true)"
   ]
  },
  {
   "cell_type": "markdown",
   "metadata": {},
   "source": [
    "## Operador ternario\n",
    "\n",
    "| Operador | Descripción |\n",
    "|:---: | :---: |\n",
    "| ?: | condition ? True value : Otherwise value |"
   ]
  },
  {
   "cell_type": "code",
   "execution_count": 63,
   "metadata": {},
   "outputs": [
    {
     "name": "stdout",
     "output_type": "stream",
     "text": [
      "x es menor a y\n"
     ]
    }
   ],
   "source": [
    "x = 4\n",
    "y = 5\n",
    "puts (x < y)? \"x es menor a y\" : \"x es mayor o igual a y\""
   ]
  },
  {
   "cell_type": "markdown",
   "metadata": {},
   "source": [
    "## Operadores de rango\n",
    "\n",
    "| Operador | Descripción |\n",
    "| :---: | :---: |\n",
    "| x..y | crea un rango inclusivo de x a y |\n",
    "| x...y | crea un rango exclusivo de x a (y-1) |"
   ]
  },
  {
   "cell_type": "code",
   "execution_count": 74,
   "metadata": {},
   "outputs": [
    {
     "name": "stdout",
     "output_type": "stream",
     "text": [
      "[1, 2, 3, 4, 5, 6, 7, 8, 9, 10, 11, 12]\n",
      "1 2 3 4 5 6 7 8 9 10 11\n"
     ]
    }
   ],
   "source": [
    "a = [*1..12]\n",
    "puts a\n",
    "\n",
    "puts (1...12).to_a.join(' ')"
   ]
  },
  {
   "cell_type": "markdown",
   "metadata": {},
   "source": [
    "## Operador defined?\n",
    "\n",
    "Determina si la expresión está definida o no. Devuelve una cadena de descripción de la expresión, o nil si la expresión no está definida."
   ]
  },
  {
   "cell_type": "code",
   "execution_count": 7,
   "metadata": {},
   "outputs": [
    {
     "name": "stdout",
     "output_type": "stream",
     "text": [
      "local-variable\n"
     ]
    }
   ],
   "source": [
    "x = 23\n",
    "puts (defined? x)"
   ]
  },
  {
   "cell_type": "code",
   "execution_count": 15,
   "metadata": {},
   "outputs": [
    {
     "name": "stdout",
     "output_type": "stream",
     "text": [
      "Hello Tatiana\n",
      "\n",
      "\n"
     ]
    }
   ],
   "source": [
    "def functionHello(name)\n",
    "  puts \"Hello #{name}\\n\"\n",
    "end\n",
    "puts functionHello(\"Tatiana\")"
   ]
  },
  {
   "cell_type": "code",
   "execution_count": 16,
   "metadata": {},
   "outputs": [
    {
     "name": "stdout",
     "output_type": "stream",
     "text": [
      "method\n"
     ]
    }
   ],
   "source": [
    "puts (defined? functionHello)"
   ]
  },
  {
   "cell_type": "markdown",
   "metadata": {},
   "source": [
    "## Operadores \".\" y \"::\"\n",
    "\n",
    "Se llama a un **método** de módulo anteponiendo su nombre con el nombre del módulo y un punto, y hace referencia a una **constante** usando el nombre del módulo y dos dos puntos.\n",
    "\n",
    "El :: es un operador unario que permite: acceder a constantes, métodos de instancia y métodos de clase definidos dentro de una clase o módulo desde cualquier lugar fuera de la clase o módulo.\n",
    "\n",
    "Recuerde que en Ruby, las clases y los métodos también pueden considerarse constantes.\n",
    "\n",
    "Solo necesita anteponer el :: Const_name con una expresión que devuelva la clase apropiada o el objeto de módulo.\n",
    "\n",
    "Si no se usa una expresión de prefijo, la clase de objeto principal se usa por defecto."
   ]
  },
  {
   "cell_type": "code",
   "execution_count": 17,
   "metadata": {},
   "outputs": [
    {
     "name": "stderr",
     "output_type": "stream",
     "text": [
      "<main>:3: warning: already initialized constant MR_COUNT\n",
      "<main>:4: warning: already initialized constant Foo::MR_COUNT\n",
      "<main>:2: warning: previous definition of MR_COUNT was here\n"
     ]
    },
    {
     "name": "stdout",
     "output_type": "stream",
     "text": [
      "1\n",
      "2\n"
     ]
    }
   ],
   "source": [
    "MR_COUNT = 0         # constant defined on main Object class\n",
    "module Foo\n",
    "   MR_COUNT = 0\n",
    "   ::MR_COUNT = 1    # set global count to 1\n",
    "   MR_COUNT = 2      # set local count to 2\n",
    "end\n",
    "puts MR_COUNT        # this is the global constant\n",
    "puts Foo::MR_COUNT   # this is the local \"Foo\" constant"
   ]
  },
  {
   "cell_type": "markdown",
   "metadata": {},
   "source": [
    "## Precedencia de Operadores\n",
    "\n",
    "| Method | \tOperator |\tDescription |\n",
    "| :---: | :---: | :---: |\n",
    "|Yes |\t:: |\tConstant resolution operator|\n",
    "|Yes |\t[ ] [ ]= |\tElement reference, element set |\n",
    "|Yes |\t** |\tExponentiation (raise to the power)|\n",
    "|Yes |\t! ~ + - |\tNot, complement, unary plus and minus (method names for the last two are +@ and -@) |\n",
    "|Yes |\t* / % \t|Multiply, divide, and modulo|\n",
    "|Yes |\t+ - |\tAddition and subtraction|\n",
    "|Yes |\t>> <<| \tRight and left bitwise shift|\n",
    "|Yes |\t& \t|Bitwise 'AND'|\n",
    "|Yes |\t^ \\| |\tBitwise exclusive `OR' and regular `OR'|\n",
    "|Yes |\t<= < > >= |\tComparison operators|\n",
    "|Yes |\t<=> == === != =~ !~ |\tEquality and pattern match operators (!= and !~ may not be defined as methods)|\n",
    "|| \t&& |\tLogical 'AND'|\n",
    "|| \t\\|\\| |\tLogical 'OR'|\n",
    "|| \t.. ... |\tRange (inclusive and exclusive)|\n",
    "|| \t? : \t|Ternary if-then-else|\n",
    "|| \t= %= { /= -= += \\|= &= >>= <<= *= &&= \\|\\|= \\*\\*= |Assignment |\n",
    "|| \tdefined? |\tCheck if specified symbol defined|\n",
    "|| \tnot \t|Logical negation|\n",
    "|| \tor and | \tLogical composition|"
   ]
  }
 ],
 "metadata": {
  "kernelspec": {
   "display_name": "Ruby 2.5.5",
   "language": "ruby",
   "name": "ruby"
  },
  "language_info": {
   "file_extension": ".rb",
   "mimetype": "application/x-ruby",
   "name": "ruby",
   "version": "2.5.5"
  }
 },
 "nbformat": 4,
 "nbformat_minor": 4
}
