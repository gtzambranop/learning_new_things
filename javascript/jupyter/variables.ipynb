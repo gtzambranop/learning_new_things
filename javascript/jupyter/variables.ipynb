{
 "cells": [
  {
   "cell_type": "markdown",
   "metadata": {},
   "source": [
    "# Variables en JavaScript\n",
    "\n",
    "## Tipos de datos\n",
    "\n",
    "Permite trabajar con 3 tipos de datos primitivos:\n",
    "- Números\n",
    "- Cadenas de texto.\n",
    "- Booleano\n",
    "\n",
    "Javascript define 2 tipos de datos triviales, **nulos** e **indefinidos**. También permite un tipo de dato compuesto definido como **objeto**.\n",
    "\n",
    "**Nota:** JavaScript no distingue entre valores enteros y de punto flotante.\n",
    "\n",
    "## Variables\n",
    "\n",
    "Pueden considerarse contenedores con nombre, puede colocar datos en estos contenedores y luego hacer referencia a los datos nombrando el contenedor. Las variables se declaran con la palabra clave **var**."
   ]
  },
  {
   "cell_type": "code",
   "execution_count": 1,
   "metadata": {},
   "outputs": [],
   "source": [
    "var name;"
   ]
  },
  {
   "cell_type": "markdown",
   "metadata": {},
   "source": [
    "También puede declarar varias variables con la misma palabra clave."
   ]
  },
  {
   "cell_type": "code",
   "execution_count": 4,
   "metadata": {},
   "outputs": [],
   "source": [
    "var name, age;"
   ]
  },
  {
   "cell_type": "markdown",
   "metadata": {},
   "source": [
    "El almacenamiento de un valor en una variable se denomina **inicialización de variable**."
   ]
  },
  {
   "cell_type": "code",
   "execution_count": 5,
   "metadata": {},
   "outputs": [
    {
     "name": "stdout",
     "output_type": "stream",
     "text": [
      "\u001b[33m23\u001b[39m\n"
     ]
    }
   ],
   "source": [
    "var name = \"Pepita\"\n",
    "var age;\n",
    "age = 23;"
   ]
  },
  {
   "cell_type": "code",
   "execution_count": 8,
   "metadata": {},
   "outputs": [
    {
     "name": "stdout",
     "output_type": "stream",
     "text": [
      "Pepe\n"
     ]
    }
   ],
   "source": [
    "var name = \"Pepe\", age = 34;\n",
    "name;"
   ]
  },
  {
   "cell_type": "markdown",
   "metadata": {},
   "source": [
    "**Nota:** Utilice la palabra clave **var** solo para la declaración o inicialización, una vez durante la vida de cualquier variable."
   ]
  },
  {
   "cell_type": "markdown",
   "metadata": {},
   "source": [
    "## Alcance de Variables\n",
    "\n",
    "Es la región del programa en la que está definida, tienen 2 ámbitos:\n",
    "- **Globales:** Tiene alcance global y se puede definir en cualquier parte del código.\n",
    "- **Locales:** será visible solo dentro de la función donde está definida. Los parámetros de una función siempre serán locales para esta función.\n",
    "\n",
    "Dentro del cuerpo de una función, una variable local tiene prioridad sobre una variable global con el mismo nombre. Si se declara una variable local con el nombre de una global, oculta la variable global."
   ]
  },
  {
   "cell_type": "code",
   "execution_count": 10,
   "metadata": {},
   "outputs": [
    {
     "name": "stdout",
     "output_type": "stream",
     "text": [
      "local\n"
     ]
    }
   ],
   "source": [
    "var myVar = \"global\";\n",
    "function checkscope( ) {\n",
    "    var myVar = \"local\"\n",
    "    console.log(myVar);\n",
    "}\n",
    "checkscope();"
   ]
  }
 ],
 "metadata": {
  "kernelspec": {
   "display_name": "JavaScript",
   "language": "javascript",
   "name": "jslab"
  },
  "language_info": {
   "file_extension": ".js",
   "mimetype": "text/javascript",
   "name": "javascript",
   "version": ""
  }
 },
 "nbformat": 4,
 "nbformat_minor": 4
}
