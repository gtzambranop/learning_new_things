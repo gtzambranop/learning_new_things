{
 "cells": [
  {
   "cell_type": "markdown",
   "metadata": {},
   "source": [
    "# Operadores\n",
    "\n",
    "Javascript permite los siguientes tipos de operadores:\n",
    "\n",
    "- Operadores aritméticos\n",
    "- Operadores de comparación\n",
    "- Operadores lógicos\n",
    "- Operadores de asignación"
   ]
  },
  {
   "cell_type": "markdown",
   "metadata": {},
   "source": [
    "## Operadores aritméticos\n",
    "\n",
    "| Operador | Descripción |\n",
    "| :---: | :---: |\n",
    "| \\+, \\- | Adición, Resta |\n",
    "| \\*, \\/, \\% | Multiplicación, División, Módulo |\n",
    "| \\+\\+, \\-\\- | Incremento, Decremento |"
   ]
  },
  {
   "cell_type": "code",
   "execution_count": 8,
   "metadata": {},
   "outputs": [
    {
     "name": "stdout",
     "output_type": "stream",
     "text": [
      "a + b =  \u001b[33m9\u001b[39m\n",
      "a + d =  4Hello\n",
      "a - b =  \u001b[33m-1\u001b[39m\n",
      "a * c =  \u001b[33m24\u001b[39m\n",
      "a / c =  \u001b[33m0.6666666666666666\u001b[39m\n",
      "a % c =  \u001b[33m4\u001b[39m\n",
      "a++ =  \u001b[33m5\u001b[39m\n",
      "b-- =  \u001b[33m4\u001b[39m\n"
     ]
    }
   ],
   "source": [
    "var a = 4, b = 5, c = 6, d = \"Hello\";\n",
    "\n",
    "console.log(\"a + b = \", a + b);\n",
    "console.log(\"a + d = \", a + d);\n",
    "console.log(\"a - b = \", a - b);\n",
    "console.log(\"a * c = \", a * c);\n",
    "console.log(\"a / c = \", a / c);\n",
    "console.log(\"a % c = \", a % c);\n",
    "console.log(\"a++ = \", a++);\n",
    "console.log(\"b-- = \", b--);"
   ]
  },
  {
   "cell_type": "markdown",
   "metadata": {},
   "source": [
    "## Operadores de comparación\n",
    "\n",
    "| Operador | Descripción |\n",
    "| :---: | :---: |\n",
    "|x == y |\tIgual a |\n",
    "|x != y |\tDiferente a |\n",
    "|x > y | \tMayor que |\n",
    "|x < y |\tMenor que |\n",
    "|x >= y |\tMayor igual que |\n",
    "|x <= y |\tMenor igual que |"
   ]
  },
  {
   "cell_type": "code",
   "execution_count": 11,
   "metadata": {},
   "outputs": [
    {
     "name": "stdout",
     "output_type": "stream",
     "text": [
      "a == b =  \u001b[33mfalse\u001b[39m\n",
      "c == b =  \u001b[33mtrue\u001b[39m\n",
      "a != b =  \u001b[33mtrue\u001b[39m\n",
      "c != b =  \u001b[33mfalse\u001b[39m\n",
      "a > b =  \u001b[33mfalse\u001b[39m\n",
      "a < b =  \u001b[33mtrue\u001b[39m\n",
      "a >= b =  \u001b[33mfalse\u001b[39m\n",
      "a <= b =  \u001b[33mtrue\u001b[39m\n",
      "c <= b =  \u001b[33mtrue\u001b[39m\n",
      "c >= b =  \u001b[33mtrue\u001b[39m\n"
     ]
    }
   ],
   "source": [
    "var a = 1, b = 2, c = 2;\n",
    "\n",
    "console.log(\"a == b = \", a == b);\n",
    "console.log(\"c == b = \", c == b);\n",
    "console.log(\"a != b = \", a != b);\n",
    "console.log(\"c != b = \", c != b);\n",
    "console.log(\"a > b = \", a > b);\n",
    "console.log(\"a < b = \", a < b);\n",
    "console.log(\"a >= b = \", a >= b);\n",
    "console.log(\"a <= b = \", a <= b);\n",
    "console.log(\"c <= b = \", c <= b);\n",
    "console.log(\"c >= b = \", c <= b);"
   ]
  },
  {
   "cell_type": "markdown",
   "metadata": {},
   "source": [
    "## Operadores Lógicos\n",
    "\n",
    "| Operador | Descripción |\n",
    "| :---: | :---: |\n",
    "| \\&\\& | \tAND |\n",
    "| \\|\\| | \tOR |\n",
    "| \\! | \tNOT |"
   ]
  },
  {
   "cell_type": "code",
   "execution_count": 15,
   "metadata": {},
   "outputs": [
    {
     "name": "stdout",
     "output_type": "stream",
     "text": [
      "a && b =  \u001b[33mfalse\u001b[39m\n",
      "a && a =  \u001b[33mtrue\u001b[39m\n",
      "b && b =  \u001b[33mfalse\u001b[39m\n",
      "a || b =  \u001b[33mtrue\u001b[39m\n",
      "b || b =  \u001b[33mfalse\u001b[39m\n",
      "!a =  \u001b[33mfalse\u001b[39m\n"
     ]
    }
   ],
   "source": [
    "var a = true, b = false;\n",
    "\n",
    "console.log(\"a && b = \", a && b);\n",
    "console.log(\"a && a = \", a && a);\n",
    "console.log(\"b && b = \", b && b);\n",
    "console.log(\"a || b = \", a || b);\n",
    "console.log(\"b || b = \", b || b);\n",
    "console.log(\"!a = \", !a);"
   ]
  },
  {
   "cell_type": "markdown",
   "metadata": {},
   "source": [
    "## Operadores Bit a Bit\n",
    "\n",
    "| Operador | Descripción |\n",
    "| :---: | :---: |\n",
    "| & | \tAND |\n",
    "| \\| | \tOR |\n",
    "| \\^ | \tXOR |\n",
    "| \\~ |\tComplemento |\n",
    "| \\<\\< | Desplazamiento de bits a la izquierda |\n",
    "| \\>\\> | Desplazamiento de bits a la derecha |"
   ]
  },
  {
   "cell_type": "code",
   "execution_count": 1,
   "metadata": {},
   "outputs": [
    {
     "name": "stdout",
     "output_type": "stream",
     "text": [
      "bin a =  111\n",
      "bin b =  101\n",
      "a & b =  101\n",
      "a | b =  111\n",
      "a ^ b =  10  = 010\n",
      "~b =  -110\n",
      "a << 1 =  1110\n",
      "b >> 1 =  10  = 010\n"
     ]
    }
   ],
   "source": [
    "var a = 7, b = 5;\n",
    "\n",
    "console.log(\"bin a = \", a.toString(2));\n",
    "console.log(\"bin b = \", b.toString(2));\n",
    "console.log(\"a & b = \", (a & b).toString(2));\n",
    "console.log(\"a | b = \", (a | b).toString(2));\n",
    "console.log(\"a ^ b = \", (a ^ b).toString(2), \" = 010\");\n",
    "console.log(\"~b = \", (~b).toString(2));\n",
    "console.log(\"a << 1 = \", (a << 1).toString(2));\n",
    "console.log(\"b >> 1 = \", (b >> 1).toString(2), \" = 010\");"
   ]
  },
  {
   "cell_type": "markdown",
   "metadata": {},
   "source": [
    "## Operadores de Asignación\n",
    "\n",
    "| Operador | Descripción |\n",
    "| :---: | :---: |\n",
    "| \\= | Asignación simple |\n",
    "| \\+\\= | Agregar y asignar |\n",
    "| \\-\\= | Restar y asignar |\n",
    "| \\*\\= | Multiplicar y asignar |\n",
    "| \\/\\= | Dividir y asignar |\n",
    "| \\%\\= | Módulo y asignación |"
   ]
  },
  {
   "cell_type": "code",
   "execution_count": 5,
   "metadata": {},
   "outputs": [
    {
     "name": "stdout",
     "output_type": "stream",
     "text": [
      "(a = b) => a =  \u001b[33m33\u001b[39m\n",
      "(a += b) => a =  \u001b[33m66\u001b[39m\n",
      "(a -= b) => a =  \u001b[33m33\u001b[39m\n",
      "(a *= b) => a =  \u001b[33m1089\u001b[39m\n",
      "(a /= b) => a =  \u001b[33m33\u001b[39m\n",
      "(b %= 2) => b =  \u001b[33m1\u001b[39m\n"
     ]
    }
   ],
   "source": [
    "var a = 20, b = 33, result;\n",
    "result = (a = b)\n",
    "console.log(\"(a = b) => a = \", result);\n",
    "a += b\n",
    "console.log(\"(a += b) => a = \", a);\n",
    "a -= b\n",
    "console.log(\"(a -= b) => a = \", a);\n",
    "a *= b\n",
    "console.log(\"(a *= b) => a = \", a);\n",
    "a /= b\n",
    "console.log(\"(a /= b) => a = \", a);\n",
    "b %= 2\n",
    "console.log(\"(b %= 2) => b = \", b);"
   ]
  },
  {
   "cell_type": "markdown",
   "metadata": {},
   "source": [
    "## Operador Misceláneo\n",
    "\n",
    "### Operador condicional\n",
    "\n",
    "Evalúa una expresión para un valor verdadero o falso y luego ejecut una de las dos declaraciones dadas, dependiendo del resultado de la evaluación.\n",
    "\n",
    "| Operación | Descripción |\n",
    "| :---: | :---: |\n",
    "| ?:(Conditional) | If Condition is true **?** Then value X **:** Otherwise value Y |    "
   ]
  },
  {
   "cell_type": "code",
   "execution_count": 7,
   "metadata": {},
   "outputs": [
    {
     "name": "stdout",
     "output_type": "stream",
     "text": [
      "a es mayor o igual a b\n"
     ]
    }
   ],
   "source": [
    "var a = 5, b = 2, c;\n",
    "\n",
    "c = (a < b) ? \"a es menor que b\" : \"a es mayor o igual a b\";\n",
    "console.log(c);"
   ]
  },
  {
   "cell_type": "markdown",
   "metadata": {},
   "source": [
    "### Operador typeof\n",
    "\n",
    "Es un operador unario que se coloca antes de su operando único, que puede ser de cualquier tipo. Retorna una cadena que indica el tipo de dato del operando.\n",
    "\n",
    "| Entrada | Retorno |\n",
    "| :---: | :---: | \n",
    "| Number | \t\"number\" |\n",
    "| String |\t\"string\" |\n",
    "| Boolean |\t\"boolean\" |\n",
    "| Object |\t\"object\" |\n",
    "| Function | \"function\" |\n",
    "| Undefined | \"undefined\" |\n",
    "| Null | \"object\" |"
   ]
  },
  {
   "cell_type": "code",
   "execution_count": 15,
   "metadata": {},
   "outputs": [
    {
     "name": "stdout",
     "output_type": "stream",
     "text": [
      "b is String\n",
      "Hello is string\n",
      "2 is number\n",
      "2 is not object\n",
      "function fun(x, y) {\n",
      "    return (typeof x == y) ? x + \" is \" + y : x + \" is not \" + y;\n",
      "} is function\n"
     ]
    }
   ],
   "source": [
    "var a = 2, b = \"Hello\", result;\n",
    "\n",
    "function fun( x, y ) {\n",
    "    return (typeof x == y) ? x + \" is \" + y : x + \" is not \" + y ;\n",
    "}\n",
    "\n",
    "result = (typeof b == \"string\") ? \"b is String\" : \"b is not String\";\n",
    "console.log(result);\n",
    "result = fun(b, \"string\");\n",
    "console.log(result);\n",
    "result = fun(a, \"number\");\n",
    "console.log(result);\n",
    "result = fun(a, \"object\");\n",
    "console.log(result);\n",
    "result = fun(fun, \"function\");\n",
    "console.log(result);"
   ]
  }
 ],
 "metadata": {
  "kernelspec": {
   "display_name": "JavaScript",
   "language": "javascript",
   "name": "jslab"
  },
  "language_info": {
   "file_extension": ".js",
   "mimetype": "text/javascript",
   "name": "javascript",
   "version": ""
  }
 },
 "nbformat": 4,
 "nbformat_minor": 4
}
