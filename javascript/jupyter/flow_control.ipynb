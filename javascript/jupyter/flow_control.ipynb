{
 "cells": [
  {
   "cell_type": "markdown",
   "metadata": {},
   "source": [
    "# Control de Flujo\n",
    "\n",
    "## If-Else\n",
    "\n",
    "![if-else diagram](./images/000.png)\n",
    "\n",
    "Permite las siguientes formas de declaración:\n",
    "- if\n",
    "    ```javascript\n",
    "    if (expression) {\n",
    "        Statement(s) to be executed if expression is true\n",
    "    }\n",
    "    ```\n",
    "- if ... else\n",
    "    ```javascript\n",
    "    if (expression) {\n",
    "        Statement(s) to be executed if expression is true\n",
    "    } else {\n",
    "        Statement(s) to be executed if expression is false\n",
    "    }\n",
    "    ```\n",
    "- if ... else if\n",
    "    ```javascript\n",
    "    if (expression 1) {\n",
    "        Statement(s) to be executed if expression 1 is true\n",
    "    } else if (expression 2) {\n",
    "        Statement(s) to be executed if expression 2 is true\n",
    "    } else {\n",
    "        Statement(s) to be executed if no expression is true\n",
    "    }\n",
    "    ```"
   ]
  },
  {
   "cell_type": "code",
   "execution_count": null,
   "metadata": {},
   "outputs": [],
   "source": []
  },
  {
   "cell_type": "code",
   "execution_count": 1,
   "metadata": {},
   "outputs": [
    {
     "name": "stdout",
     "output_type": "stream",
     "text": [
      "a es un número positivo\n"
     ]
    }
   ],
   "source": [
    "var a = 25;\n",
    "\n",
    "if (a > 0){\n",
    "    console.log(\"a es un número positivo\");\n",
    "}"
   ]
  },
  {
   "cell_type": "code",
   "execution_count": 2,
   "metadata": {},
   "outputs": [
    {
     "name": "stdout",
     "output_type": "stream",
     "text": [
      "a es un número no negativo\n"
     ]
    }
   ],
   "source": [
    "var a = 25;\n",
    "\n",
    "if (a < 0){\n",
    "    console.log(\"a es un número negativo\");\n",
    "} else {\n",
    "    console.log(\"a es un número no negativo\");\n",
    "}"
   ]
  },
  {
   "cell_type": "code",
   "execution_count": 3,
   "metadata": {},
   "outputs": [
    {
     "name": "stdout",
     "output_type": "stream",
     "text": [
      "a o b es un número negativo\n"
     ]
    }
   ],
   "source": [
    "var a = 25, b = -5;\n",
    "\n",
    "if (a < 0 && b < 0){\n",
    "    console.log(\"a y b es un número negativo\");\n",
    "} else if (a < 0 || b < 0) {\n",
    "    console.log(\"a o b es un número negativo\");\n",
    "}"
   ]
  },
  {
   "cell_type": "code",
   "execution_count": 5,
   "metadata": {},
   "outputs": [
    {
     "name": "stdout",
     "output_type": "stream",
     "text": [
      "a o b es un número negativo\n"
     ]
    }
   ],
   "source": [
    "var a = 25, b = -5;\n",
    "\n",
    "if (a < 0 && b < 0){\n",
    "    console.log(\"a y b es un número negativo\");\n",
    "} else if (a == 0 || b == 0) {\n",
    "    console.log(\"a o b es cero\");\n",
    "} else {\n",
    "    console.log(\"a o b es un número negativo\");\n",
    "}"
   ]
  },
  {
   "cell_type": "markdown",
   "metadata": {},
   "source": [
    "## Switch Case\n",
    "\n",
    "![Switch diagram](./images/001.png)\n",
    "\n",
    "Proporciona una expresión para evaluar varias declaraciones diferentes en función de una expresión. El intérprete compara cada caso con el valos de la expresión hasta qque encuentra una coincidencia. Si nada coincide, se utilizará una condición predeterminada **default**\n",
    "\n",
    "```javascript\n",
    "switch (expression) {\n",
    "    case condition 1: statement(s)\n",
    "    break;\n",
    "    case condition 2: statement(s)\n",
    "    break;\n",
    "    ...\n",
    "    case condition n: statement(s)\n",
    "    break;\n",
    "    default: statement(s)\n",
    "}\n",
    "```\n",
    "\n",
    "Las declaraciones **break** indican el final de un caso particular. Si se omitieran el intérprete continuaría ejecutando los siguientes casos."
   ]
  },
  {
   "cell_type": "code",
   "execution_count": 7,
   "metadata": {},
   "outputs": [
    {
     "name": "stdout",
     "output_type": "stream",
     "text": [
      "Saturday\n"
     ]
    }
   ],
   "source": [
    "var day;\n",
    "switch (new Date().getDay()) {\n",
    "  case 0:\n",
    "    day = \"Sunday\";\n",
    "    break;\n",
    "  case 1:\n",
    "    day = \"Monday\";\n",
    "    break;\n",
    "  case 2:\n",
    "     day = \"Tuesday\";\n",
    "    break;\n",
    "  case 3:\n",
    "    day = \"Wednesday\";\n",
    "    break;\n",
    "  case 4:\n",
    "    day = \"Thursday\";\n",
    "    break;\n",
    "  case 5:\n",
    "    day = \"Friday\";\n",
    "    break;\n",
    "  case 6:\n",
    "    day = \"Saturday\";\n",
    "}\n",
    "console.log(day);"
   ]
  },
  {
   "cell_type": "code",
   "execution_count": 19,
   "metadata": {},
   "outputs": [
    {
     "name": "stdout",
     "output_type": "stream",
     "text": [
      "Es un número positivo\n",
      "Es par\n"
     ]
    }
   ],
   "source": [
    "var a = 3;\n",
    "switch (true) {\n",
    "    case (a > 0):\n",
    "        console.log(\"Es un número positivo\");\n",
    "    case (a % 2 == 0): // Error -> 3 % 2 = 1\n",
    "        console.log(\"Es par\");\n",
    "}"
   ]
  },
  {
   "cell_type": "code",
   "execution_count": 16,
   "metadata": {},
   "outputs": [
    {
     "name": "stdout",
     "output_type": "stream",
     "text": [
      "Es un número positivo\n"
     ]
    }
   ],
   "source": [
    "var a = 3;\n",
    "switch (true) {\n",
    "    case (a > 0):\n",
    "        console.log(\"Es un número positivo\");\n",
    "    break;\n",
    "    case (a % 2 == 0): // Error\n",
    "        console.log(\"Es par\");\n",
    "    break;\n",
    "}"
   ]
  }
 ],
 "metadata": {
  "kernelspec": {
   "display_name": "JavaScript",
   "language": "javascript",
   "name": "jslab"
  },
  "language_info": {
   "file_extension": ".js",
   "mimetype": "text/javascript",
   "name": "javascript",
   "version": ""
  }
 },
 "nbformat": 4,
 "nbformat_minor": 4
}
