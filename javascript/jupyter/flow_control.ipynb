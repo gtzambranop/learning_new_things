{
 "cells": [
  {
   "cell_type": "markdown",
   "metadata": {},
   "source": [
    "# Control de Flujo\n",
    "\n",
    "## If-Else\n",
    "\n",
    "![if-else diagram](./images/000.png)\n",
    "\n",
    "Permite las siguientes formas de declaración:\n",
    "- if\n",
    "    ```javascript\n",
    "    if (expression) {\n",
    "        Statement(s) to be executed if expression is true\n",
    "    }\n",
    "    ```\n",
    "- if ... else\n",
    "    ```javascript\n",
    "    if (expression) {\n",
    "        Statement(s) to be executed if expression is true\n",
    "    } else {\n",
    "        Statement(s) to be executed if expression is false\n",
    "    }\n",
    "    ```\n",
    "- if ... else if\n",
    "    ```javascript\n",
    "    if (expression 1) {\n",
    "        Statement(s) to be executed if expression 1 is true\n",
    "    } else if (expression 2) {\n",
    "        Statement(s) to be executed if expression 2 is true\n",
    "    } else {\n",
    "        Statement(s) to be executed if no expression is true\n",
    "    }\n",
    "    ```"
   ]
  },
  {
   "cell_type": "code",
   "execution_count": null,
   "metadata": {},
   "outputs": [],
   "source": []
  },
  {
   "cell_type": "code",
   "execution_count": 1,
   "metadata": {},
   "outputs": [
    {
     "name": "stdout",
     "output_type": "stream",
     "text": [
      "a es un número positivo\n"
     ]
    }
   ],
   "source": [
    "var a = 25;\n",
    "\n",
    "if (a > 0){\n",
    "    console.log(\"a es un número positivo\");\n",
    "}"
   ]
  },
  {
   "cell_type": "code",
   "execution_count": 2,
   "metadata": {},
   "outputs": [
    {
     "name": "stdout",
     "output_type": "stream",
     "text": [
      "a es un número no negativo\n"
     ]
    }
   ],
   "source": [
    "var a = 25;\n",
    "\n",
    "if (a < 0){\n",
    "    console.log(\"a es un número negativo\");\n",
    "} else {\n",
    "    console.log(\"a es un número no negativo\");\n",
    "}"
   ]
  },
  {
   "cell_type": "code",
   "execution_count": 3,
   "metadata": {},
   "outputs": [
    {
     "name": "stdout",
     "output_type": "stream",
     "text": [
      "a o b es un número negativo\n"
     ]
    }
   ],
   "source": [
    "var a = 25, b = -5;\n",
    "\n",
    "if (a < 0 && b < 0){\n",
    "    console.log(\"a y b es un número negativo\");\n",
    "} else if (a < 0 || b < 0) {\n",
    "    console.log(\"a o b es un número negativo\");\n",
    "}"
   ]
  },
  {
   "cell_type": "code",
   "execution_count": 5,
   "metadata": {},
   "outputs": [
    {
     "name": "stdout",
     "output_type": "stream",
     "text": [
      "a o b es un número negativo\n"
     ]
    }
   ],
   "source": [
    "var a = 25, b = -5;\n",
    "\n",
    "if (a < 0 && b < 0){\n",
    "    console.log(\"a y b es un número negativo\");\n",
    "} else if (a == 0 || b == 0) {\n",
    "    console.log(\"a o b es cero\");\n",
    "} else {\n",
    "    console.log(\"a o b es un número negativo\");\n",
    "}"
   ]
  },
  {
   "cell_type": "markdown",
   "metadata": {},
   "source": [
    "## Switch Case\n",
    "\n",
    "![Switch diagram](./images/001.png)\n",
    "\n",
    "Proporciona una expresión para evaluar varias declaraciones diferentes en función de una expresión. El intérprete compara cada caso con el valos de la expresión hasta qque encuentra una coincidencia. Si nada coincide, se utilizará una condición predeterminada **default**\n",
    "\n",
    "```javascript\n",
    "switch (expression) {\n",
    "    case condition 1: statement(s)\n",
    "    break;\n",
    "    case condition 2: statement(s)\n",
    "    break;\n",
    "    ...\n",
    "    case condition n: statement(s)\n",
    "    break;\n",
    "    default: statement(s)\n",
    "}\n",
    "```\n",
    "\n",
    "Las declaraciones **break** indican el final de un caso particular. Si se omitieran el intérprete continuaría ejecutando los siguientes casos."
   ]
  }
 ],
 "metadata": {
  "kernelspec": {
   "display_name": "JavaScript",
   "language": "javascript",
   "name": "jslab"
  },
  "language_info": {
   "file_extension": ".js",
   "mimetype": "text/javascript",
   "name": "javascript",
   "version": ""
  }
 },
 "nbformat": 4,
 "nbformat_minor": 4
}
