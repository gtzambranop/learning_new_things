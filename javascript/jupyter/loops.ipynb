{
 "cells": [
  {
   "cell_type": "markdown",
   "metadata": {},
   "source": [
    "# Loops\n",
    "\n",
    "## While\n",
    "\n",
    "Ejecuta una expresión o bloque de código, siempre qe una **expresión** sea verdadera.\n",
    "\n",
    "![while](./images/002.png)\n",
    "\n",
    "```javascript\n",
    "while (expression) {\n",
    "    Statement(s) to be executed if expression is true\n",
    "}\n",
    "```"
   ]
  },
  {
   "cell_type": "code",
   "execution_count": 1,
   "metadata": {},
   "outputs": [
    {
     "name": "stdout",
     "output_type": "stream",
     "text": [
      "\u001b[33m0\u001b[39m\n",
      "\u001b[33m1\u001b[39m\n",
      "\u001b[33m2\u001b[39m\n",
      "\u001b[33m3\u001b[39m\n",
      "\u001b[33m4\u001b[39m\n",
      "\u001b[33m5\u001b[39m\n",
      "\u001b[33m6\u001b[39m\n",
      "\u001b[33m7\u001b[39m\n",
      "\u001b[33m8\u001b[39m\n",
      "\u001b[33m9\u001b[39m\n"
     ]
    }
   ],
   "source": [
    "var count = 0;\n",
    "\n",
    "while(count < 10) {\n",
    "    console.log(count);\n",
    "    count ++;\n",
    "}"
   ]
  },
  {
   "cell_type": "markdown",
   "metadata": {},
   "source": [
    "## Do While\n",
    "\n",
    "Es similar al bucle While, solo que la comparación se hace al final del bucle.\n",
    "\n",
    "![Do While](./images/003.png)\n",
    "\n",
    "```javascript\n",
    "do {\n",
    "    Statement(s) to be executed;\n",
    "} while (expression);\n",
    "```"
   ]
  },
  {
   "cell_type": "code",
   "execution_count": 2,
   "metadata": {},
   "outputs": [
    {
     "name": "stdout",
     "output_type": "stream",
     "text": [
      "\u001b[33m10\u001b[39m\n"
     ]
    }
   ],
   "source": [
    "var count = 10;\n",
    "\n",
    "do {\n",
    "    console.log(count);\n",
    "    count ++;\n",
    "} while (count < 10);"
   ]
  },
  {
   "cell_type": "markdown",
   "metadata": {},
   "source": [
    "## For\n",
    "\n",
    "Es la forma más compacta de bucle, consta de 3 partes importantes:\n",
    "- **Inicialización del ciclo:** Se inicializa el contador en un valor inicial, esta instrucción se ejecuta antes de que inicie el ciclo.\n",
    "- **Declaración de prueba:** Comprobará si una condición es verdadera o no. Si es verdadera, se ejecutará el código dentro del bucle; de lo contrario, se cerrará el bucle.\n",
    "- **Declaración de iteración:** Indica la cantidad en que se incrementa o decrementa el contador.\n",
    "\n",
    "![for](./images/004.png)\n",
    "\n",
    "```javascript\n",
    "for (initialization; test condition; iteration statement) {\n",
    "    Statement(s) to be executed if test condition is true;\n",
    "}\n",
    "```"
   ]
  },
  {
   "cell_type": "code",
   "execution_count": 3,
   "metadata": {},
   "outputs": [
    {
     "name": "stdout",
     "output_type": "stream",
     "text": [
      "\u001b[33m45\u001b[39m \u001b[33m10\u001b[39m\n"
     ]
    }
   ],
   "source": [
    "var test = 0, i;\n",
    "\n",
    "for (i = 0; i < 10; i++) {\n",
    "    test += i;\n",
    "}\n",
    "console.log(test, i);"
   ]
  },
  {
   "cell_type": "markdown",
   "metadata": {},
   "source": [
    "## For in\n",
    "\n",
    "Se usa para recorrer las propiedades de un objeto\n",
    "\n",
    "```javascript\n",
    "for (variableName in object) {\n",
    "    Statement or block to execute;\n",
    "}\n",
    "```"
   ]
  },
  {
   "cell_type": "code",
   "execution_count": 4,
   "metadata": {},
   "outputs": [
    {
     "name": "stdout",
     "output_type": "stream",
     "text": [
      "0\n",
      "1\n",
      "2\n",
      "3\n",
      "4\n"
     ]
    }
   ],
   "source": [
    "var myList = [1, 2, 3, 4, 5], aux;\n",
    "\n",
    "for (aux in myList) {\n",
    "    console.log(aux);\n",
    "}"
   ]
  },
  {
   "cell_type": "markdown",
   "metadata": {},
   "source": [
    "## Control de Bucles\n",
    "\n",
    "Puede haber situaciones en las que se desee salir del bucle antes de que este termine, o en las que se desee omitir una parte de su bloque de código e iniciar la siguiente iteración del ciclo.\n",
    "\n",
    "### Break\n",
    "\n",
    "Se usa para salir del bucle antes de tiempo.\n",
    "\n",
    "![break](./images/005.png)"
   ]
  },
  {
   "cell_type": "code",
   "execution_count": 5,
   "metadata": {},
   "outputs": [
    {
     "name": "stdout",
     "output_type": "stream",
     "text": [
      "\u001b[33m0\u001b[39m\n",
      "\u001b[33m2\u001b[39m\n",
      "\u001b[33m4\u001b[39m\n",
      "\u001b[33m6\u001b[39m\n",
      "\u001b[33m8\u001b[39m\n",
      "\u001b[33m10\u001b[39m\n",
      "\u001b[33m12\u001b[39m\n",
      "\u001b[33m14\u001b[39m\n",
      "\u001b[33m16\u001b[39m\n"
     ]
    }
   ],
   "source": [
    "var x = 0;\n",
    "\n",
    "while (true) {\n",
    "    if (x % 2 == 0) {\n",
    "        console.log(x);\n",
    "    } else if (x % 17 == 0) {\n",
    "        break;\n",
    "    }\n",
    "    x += 1;\n",
    "}"
   ]
  },
  {
   "cell_type": "markdown",
   "metadata": {},
   "source": [
    "## Continue\n",
    "\n",
    "Le dice al intérprete que comience inmediatamente la siguiente iteración del ciclo y omita el bloque de código restante."
   ]
  },
  {
   "cell_type": "code",
   "execution_count": 7,
   "metadata": {},
   "outputs": [
    {
     "name": "stdout",
     "output_type": "stream",
     "text": [
      "\u001b[33m1\u001b[39m\n",
      "\u001b[33m3\u001b[39m\n",
      "\u001b[33m5\u001b[39m\n",
      "\u001b[33m7\u001b[39m\n",
      "\u001b[33m9\u001b[39m\n",
      "\u001b[33m11\u001b[39m\n",
      "\u001b[33m13\u001b[39m\n",
      "\u001b[33m15\u001b[39m\n"
     ]
    }
   ],
   "source": [
    "var x = 0;\n",
    "\n",
    "while (true) {\n",
    "    x += 1;\n",
    "    if (x % 2 == 0) {\n",
    "        continue;\n",
    "    } else if (x % 17 == 0) {\n",
    "        break;\n",
    "    }\n",
    "    console.log(x);\n",
    "}"
   ]
  },
  {
   "cell_type": "markdown",
   "metadata": {},
   "source": [
    "## Etiquetas"
   ]
  },
  {
   "cell_type": "code",
   "execution_count": 10,
   "metadata": {},
   "outputs": [
    {
     "name": "stdout",
     "output_type": "stream",
     "text": [
      "- Outerloop: 0\n",
      "Innerloop: 0\n",
      "Innerloop: 1\n",
      "Innerloop: 2\n",
      "Innerloop: 3\n",
      "- Outerloop: 1\n",
      "Innerloop: 0\n",
      "Innerloop: 1\n",
      "Innerloop: 2\n",
      "Innerloop: 3\n",
      "- Outerloop: 2\n",
      "- Outerloop: 3\n",
      "Innerloop: 0\n",
      "Innerloop: 1\n",
      "Innerloop: 2\n",
      "Innerloop: 3\n",
      "- Outerloop: 4\n"
     ]
    }
   ],
   "source": [
    "outerloop:        // This is the label name         \n",
    "for (var i = 0; i < 5; i++) {\n",
    "   console.log(\"- Outerloop: \" + i);\n",
    "   innerloop:\n",
    "   for (var j = 0; j < 5; j++) {\n",
    "      if (j > 3 ) break ;           // Quit the innermost loop\n",
    "      if (i == 2) break innerloop;  // Do the same thing\n",
    "      if (i == 4) break outerloop;  // Quit the outer loop\n",
    "      console.log(\"Innerloop: \" + j);\n",
    "   }\n",
    "}     "
   ]
  }
 ],
 "metadata": {
  "kernelspec": {
   "display_name": "JavaScript",
   "language": "javascript",
   "name": "jslab"
  },
  "language_info": {
   "file_extension": ".js",
   "mimetype": "text/javascript",
   "name": "javascript",
   "version": ""
  }
 },
 "nbformat": 4,
 "nbformat_minor": 4
}
