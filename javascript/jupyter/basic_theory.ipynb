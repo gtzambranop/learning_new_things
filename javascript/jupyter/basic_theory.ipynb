{
 "cells": [
  {
   "cell_type": "markdown",
   "metadata": {},
   "source": [
    "# Javascript\n",
    "\n",
    "Es un lenguaje de programación ligero **interpretado**, está diseñado para crear aplicaciones centradas en la red. Es complementario e integrado con Java.\n",
    "\n",
    "## Frameworks y bibliotecas útiles\n",
    "\n",
    "- Angular\n",
    "- React\n",
    "- jQuery\n",
    "- Vue.js\n",
    "- Ext.js\n",
    "- Ember.js\n",
    "- Meteor\n",
    "- Mithril\n",
    "- Node.js\n",
    "- Polymer\n",
    "- Aurelia\n",
    "- Backbone.js\n",
    "\n",
    "## Aplicaciones\n",
    "\n",
    "- **Validación del lado del cliente:** Verificar entradas del usuario antes de enviarlas al servidor.\n",
    "- **Manipulación de páginas HTML:** Manipula HTML sobre la marcha,modifica segun dispositivos etc.\n",
    "- **Notificaciones de usuario:** Se puede usar para crear ventanas emergentes dinámicas.\n",
    "- **Carga de datos de back-end:** Con la biblioteca Ajax carga datos de back-end mientras realiza algún otro procesamiento.\n",
    "- **Presentaciones:** Diapositivas con apariencia y estilo web. Bibliotecas: [RevealJS](https://revealjs.com/) y [BespokeJS](https://github.com/bespokejs/bespoke).\n",
    "\n",
    "## ¿Qué es?\n",
    "\n",
    "Se conoció primero como LiveScript, pero Netscape cambió su nombre a Javascript, hizo su primera aparición en 1995.\n",
    "- Es un lenguaje ligero interpretado.\n",
    "- Diseñado para crear aplicaciones centradas en la red.\n",
    "- Complementario e integrado con Java.\n",
    "- Complementario e integrado con HTML.\n",
    "- Abierto y multiplataforma.\n",
    "\n",
    "### Ventajas\n",
    "\n",
    "- Menor interacción con el servidor\n",
    "- Comentarios inmediatos para los visitantes.\n",
    "- Mayor interactividad.\n",
    "- Interfaces ricas.\n",
    "\n",
    "### Limitaciones\n",
    "\n",
    "- No permite la lectura o escritura de archivos.\n",
    "- No se puede usar para aplicaciones red,"
   ]
  }
 ],
 "metadata": {
  "kernelspec": {
   "display_name": "JavaScript",
   "language": "javascript",
   "name": "jslab"
  },
  "language_info": {
   "file_extension": ".js",
   "mimetype": "text/javascript",
   "name": "javascript",
   "version": ""
  }
 },
 "nbformat": 4,
 "nbformat_minor": 4
}
