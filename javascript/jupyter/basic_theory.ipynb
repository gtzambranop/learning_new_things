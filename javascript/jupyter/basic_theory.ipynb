{
 "cells": [
  {
   "cell_type": "markdown",
   "metadata": {},
   "source": [
    "# Javascript\n",
    "\n",
    "Es un lenguaje de programación ligero **interpretado**, está diseñado para crear aplicaciones centradas en la red. Es complementario e integrado con Java.\n",
    "\n",
    "## Frameworks y bibliotecas útiles\n",
    "\n",
    "- Angular\n",
    "- React\n",
    "- jQuery\n",
    "- Vue.js\n",
    "- Ext.js\n",
    "- Ember.js\n",
    "- Meteor\n",
    "- Mithril\n",
    "- Node.js\n",
    "- Polymer\n",
    "- Aurelia\n",
    "- Backbone.js\n",
    "\n",
    "## Aplicaciones\n",
    "\n",
    "- **Validación del lado del cliente:** Verificar entradas del usuario antes de enviarlas al servidor.\n",
    "- **Manipulación de páginas HTML:** Manipula HTML sobre la marcha,modifica segun dispositivos etc.\n",
    "- **Notificaciones de usuario:** Se puede usar para crear ventanas emergentes dinámicas.\n",
    "- **Carga de datos de back-end:** Con la biblioteca Ajax carga datos de back-end mientras realiza algún otro procesamiento.\n",
    "- **Presentaciones:** Diapositivas con apariencia y estilo web. Bibliotecas: [RevealJS](https://revealjs.com/) y [BespokeJS](https://github.com/bespokejs/bespoke).\n",
    "\n",
    "## ¿Qué es?\n",
    "\n",
    "Se conoció primero como LiveScript, pero Netscape cambió su nombre a Javascript, hizo su primera aparición en 1995.\n",
    "- Es un lenguaje ligero interpretado.\n",
    "- Diseñado para crear aplicaciones centradas en la red.\n",
    "- Complementario e integrado con Java.\n",
    "- Complementario e integrado con HTML.\n",
    "- Abierto y multiplataforma.\n",
    "\n",
    "### Ventajas\n",
    "\n",
    "- Menor interacción con el servidor\n",
    "- Comentarios inmediatos para los visitantes.\n",
    "- Mayor interactividad.\n",
    "- Interfaces ricas.\n",
    "\n",
    "### Limitaciones\n",
    "\n",
    "- No permite la lectura o escritura de archivos.\n",
    "- No se puede usar para aplicaciones red."
   ]
  },
  {
   "cell_type": "markdown",
   "metadata": {},
   "source": [
    "## Sintaxis\n",
    "\n",
    "Se puede implementar mediante declaraciones de JavaScript que se colocan dentro de las etiquetas HTML **`<script>`** .. **`</script>`** en una página web. Se puede colocar en cualquier lugar de la página, pero se recomienda mantenerla dentro de las etiquetas **`<head>`**.\n",
    "\n",
    "```\n",
    "<script language = \"javascript\" type = \"text/javascript\">\n",
    "    JavaScript code\n",
    "</script>\n",
    "```\n",
    "\n",
    "[Ejemplo - Hello World](../examples/hello_world/index.html)\n",
    "\n",
    "### Los puntos y comas son opcionales\n",
    "\n",
    "Le permite omitir el punto y coma si cada una de las declaraciones se coloca en una línea separada."
   ]
  },
  {
   "cell_type": "code",
   "execution_count": 3,
   "metadata": {},
   "outputs": [],
   "source": [
    "var a = 10\n",
    "var b = 30\n",
    "var c = 5; var d = 4;"
   ]
  },
  {
   "cell_type": "markdown",
   "metadata": {},
   "source": [
    "**Nota:** Es una buena práctica de programación utilizar punto y coma."
   ]
  },
  {
   "cell_type": "markdown",
   "metadata": {},
   "source": [
    "### Sensibilidad a mayúsculas y minúsculas\n",
    "\n",
    "Es un lenguaje que distingue mayúsculas de minúsculas\n",
    "\n",
    "### Comentarios\n",
    "\n",
    "- Cualquier texto entre `//` y el final de la línea se trata como comentario y se ignora.\n",
    "- Cualquier téxto entre los caracteres `/*` y `*/` se trata como comentario, puede abarcar varias líneas."
   ]
  },
  {
   "cell_type": "code",
   "execution_count": 13,
   "metadata": {},
   "outputs": [
    {
     "name": "stdout",
     "output_type": "stream",
     "text": [
      "\u001b[33m8\u001b[39m\n"
     ]
    }
   ],
   "source": [
    "// one line comment\n",
    "// a = 5;\n",
    "b = 6;\n",
    "/*\n",
    "multi-line\n",
    "comment\n",
    "c = 7;\n",
    "*/\n",
    "d = 8;"
   ]
  },
  {
   "cell_type": "markdown",
   "metadata": {},
   "source": [
    "## Ubicación en archivo HTML\n",
    "\n",
    "Las formas preferidas de incluir javascript son:\n",
    "\n",
    "- Secuencia de comandos en la sección `<head>`...`</head>`.\n",
    "    ```html\n",
    "    <html>\n",
    "       <head>      \n",
    "          <script type = \"text/javascript\">\n",
    "             <!--\n",
    "                function sayHello() {\n",
    "                   alert(\"Hello World\")\n",
    "                }\n",
    "             //-->\n",
    "          </script>     \n",
    "       </head>\n",
    "\n",
    "       <body>\n",
    "          <input type = \"button\" onclick = \"sayHello()\" value = \"Say Hello\" />\n",
    "       </body>  \n",
    "    </html>\n",
    "    ```\n",
    "- Script en la sección `<body>`...`</body>`.\n",
    "    ```html\n",
    "    <html>\n",
    "       <head>\n",
    "       </head>\n",
    "\n",
    "       <body>\n",
    "          <script type = \"text/javascript\">\n",
    "             <!--\n",
    "                document.write(\"Hello World\")\n",
    "             //-->\n",
    "          </script>\n",
    "\n",
    "          <p>This is web page body </p>\n",
    "       </body>\n",
    "    </html>\n",
    "    ```\n",
    "- Script en un archivo externo y luego incluirlo en la sección `<head>`...`</head>`. Se debe escribir todo el código fuente javascript en un archivo de texto con la extensión **.js**.\n",
    "    ```html\n",
    "    <html>\n",
    "       <head>\n",
    "          <script type = \"text/javascript\" src = \"filename.js\" ></script>\n",
    "       </head>\n",
    "\n",
    "       <body>\n",
    "          .......\n",
    "       </body>\n",
    "    </html>\n",
    "    ```"
   ]
  }
 ],
 "metadata": {
  "kernelspec": {
   "display_name": "JavaScript",
   "language": "javascript",
   "name": "jslab"
  },
  "language_info": {
   "file_extension": ".js",
   "mimetype": "text/javascript",
   "name": "javascript",
   "version": ""
  }
 },
 "nbformat": 4,
 "nbformat_minor": 4
}
